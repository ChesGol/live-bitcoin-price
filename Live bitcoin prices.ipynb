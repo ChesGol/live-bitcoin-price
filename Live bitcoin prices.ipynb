{
 "cells": [
  {
   "cell_type": "code",
   "execution_count": null,
   "metadata": {},
   "outputs": [],
   "source": [
    "'''\n",
    "- Access data from 'https://api.coinmarketcap.com/v1/ticker/bitcoin/'   TICK ==================\n",
    "- Output the current value of bitcoin   TICK  =====================================\n",
    "- Bonus: Have the value automatically update every five seconds (hint: research the time module) TICK =======================\n",
    "- Bonus: Output the current time and date    TICK =========================\n",
    "\n",
    "'''"
   ]
  },
  {
   "cell_type": "code",
   "execution_count": null,
   "metadata": {},
   "outputs": [],
   "source": [
    "import requests\n",
    "import time\n",
    "import datetime\n",
    "\n",
    "\n",
    "url = 'https://api.coinmarketcap.com/v1/ticker/bitcoin/'\n"
   ]
  },
  {
   "cell_type": "code",
   "execution_count": null,
   "metadata": {},
   "outputs": [],
   "source": [
    "while 1==1:\n",
    "    response = requests.get(url)\n",
    "    data = response.json()\n",
    "    bitcoin_value = data[0]['price_usd']\n",
    "    time_now = datetime.datetime.now().strftime(\"%d, %b %Y %H:%M:%S\")\n",
    "    \n",
    "    \n",
    "    print(\"{}: {}\".format(time_now, bitcoin_value))\n",
    "    time.sleep(1)"
   ]
  },
  {
   "cell_type": "code",
   "execution_count": null,
   "metadata": {},
   "outputs": [],
   "source": [
    "print(datetime.datetime.now().strftime(\"%d, %b %Y %H:%M:%S\"))"
   ]
  },
  {
   "cell_type": "code",
   "execution_count": null,
   "metadata": {},
   "outputs": [],
   "source": [
    "\n",
    "print(today.strftime('We are the %d, %b %Y'))"
   ]
  },
  {
   "cell_type": "code",
   "execution_count": null,
   "metadata": {},
   "outputs": [],
   "source": []
  }
 ],
 "metadata": {
  "kernelspec": {
   "display_name": "Python 3",
   "language": "python",
   "name": "python3"
  }
 },
 "nbformat": 4,
 "nbformat_minor": 2
}